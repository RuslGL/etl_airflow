{
 "cells": [
  {
   "cell_type": "code",
   "execution_count": 2,
   "id": "d8298cf1-a3fd-481f-8e91-374710108fce",
   "metadata": {},
   "outputs": [],
   "source": [
    "# import sys\n",
    "# print(sys.executable)\n",
    "#!/Users/macbook/code/venv/bin/python -m pip install clickhouse_driver"
   ]
  },
  {
   "cell_type": "code",
   "execution_count": 3,
   "id": "a392b633-9d7a-4d92-8f00-f2cbf9103b28",
   "metadata": {},
   "outputs": [],
   "source": [
    "import os\n",
    "\n",
    "import requests\n",
    "import json\n",
    "import pandas as pd\n",
    "from datetime import datetime, timedelta, UTC, timezone\n",
    "import clickhouse_connect\n",
    "from clickhouse_driver import Client\n",
    "from multiprocessing import Queue\n",
    "from dotenv import load_dotenv"
   ]
  },
  {
   "cell_type": "code",
   "execution_count": 4,
   "id": "b01a0a06-5297-4ff1-9b41-0e1c2aee4d86",
   "metadata": {},
   "outputs": [],
   "source": [
    "load_dotenv()\n",
    "\n",
    "user = str(os.getenv('user'))\n",
    "password = str(os.getenv('password'))"
   ]
  },
  {
   "cell_type": "markdown",
   "id": "002c62df-acfa-423f-822a-0a7b7c89be5c",
   "metadata": {},
   "source": [
    "# EXTRACT"
   ]
  },
  {
   "cell_type": "code",
   "execution_count": 5,
   "id": "9462290e-8c6a-4849-a587-401240159d0c",
   "metadata": {},
   "outputs": [],
   "source": [
    "def round_down_to_5_minutes(dt):\n",
    "    return dt - timedelta(minutes=dt.minute % 5, seconds=dt.second, microseconds=dt.microsecond)\n",
    "\n",
    "def format_dtms_to_time(ts_ms):\n",
    "    timestamp_s = int(ts_ms) // 1000  # Перевод миллисекунд в секунды\n",
    "    # return datetime.fromtimestamp(timestamp_s, UTC).strftime('%Y-%m-%d %H:%M:%S')\n",
    "    return datetime.fromtimestamp(timestamp_s, timezone.utc) \n"
   ]
  },
  {
   "cell_type": "code",
   "execution_count": 6,
   "id": "5be60ab3-3dbd-40b3-9caa-f8bb3f270c33",
   "metadata": {},
   "outputs": [],
   "source": [
    "requests_queue = Queue()\n",
    "insert_data_queue = Queue()"
   ]
  },
  {
   "cell_type": "code",
   "execution_count": 7,
   "id": "ec1c4492-118f-47ff-a6c5-29fd02aa8af3",
   "metadata": {},
   "outputs": [],
   "source": [
    "def get_kline(symbol, time_str, requests_queue):\n",
    "    kline_time = datetime.fromisoformat(time_str) - timedelta(minutes=5)\n",
    "    rounded_dt = round_down_to_5_minutes(kline_time)\n",
    "    kline_time = int(rounded_dt.timestamp() * 1000)  #start stime\n",
    "\n",
    "    params = {\n",
    "        'category': 'spot',\n",
    "        'symbol': symbol,\n",
    "        'interval': '5',\n",
    "        'start': kline_time,\n",
    "        'limit': 1\n",
    "    }\n",
    "    end_point =  '/v5/market/kline'\n",
    "    url = 'https://api.bybit.com'\n",
    "\n",
    "    requests_queue.put_nowait(\n",
    "        requests.get(url + end_point, params).json()\n",
    "    )"
   ]
  },
  {
   "cell_type": "markdown",
   "id": "8e9cb402-1158-41b4-98f9-c600e53f6cf8",
   "metadata": {},
   "source": [
    "# TRANSFORM"
   ]
  },
  {
   "cell_type": "code",
   "execution_count": 8,
   "id": "c466b936-5262-4ceb-9d38-4e3e3edcf820",
   "metadata": {},
   "outputs": [],
   "source": [
    "def transform_data(requests_queue):\n",
    "    insert_data = []\n",
    "    while True:\n",
    "        try:\n",
    "            data = requests_queue.get_nowait()  # Неблокирующий запрос\n",
    "        except:\n",
    "            break \n",
    "\n",
    "        if data.get('retMsg') == 'OK' and data.get('result').get('list'):\n",
    "            result = data.get('result').get('list')[0]\n",
    "            values = (\n",
    "                data.get('result').get('symbol')[:-4],\n",
    "                format_dtms_to_time(result[0]),\n",
    "                float(result[1]),\n",
    "                float(result[2]),\n",
    "                float(result[3]),\n",
    "                float(result[4]),\n",
    "                float(result[5]),\n",
    "                float(result[6]),\n",
    "            )\n",
    "            insert_data.append(values)\n",
    "    insert_data_queue.put_nowait(insert_data)"
   ]
  },
  {
   "cell_type": "markdown",
   "id": "be6bcb27-f3a9-468b-b30a-dca0ede718bf",
   "metadata": {},
   "source": [
    "# LOAD"
   ]
  },
  {
   "cell_type": "code",
   "execution_count": 9,
   "id": "e298cbe3-3926-49ab-aa5b-37856ff377a7",
   "metadata": {},
   "outputs": [],
   "source": [
    "# CREATE TABLE five_min_klines\n",
    "# (\n",
    "#     symbol String,\n",
    "#     start_time DateTime,\n",
    "#     open Float64,\n",
    "#     high Float64,\n",
    "#     low Float64,\n",
    "#     close Float64,\n",
    "#     volume_base_coin Float64,\n",
    "#     volume_usdt Float64\n",
    "# )\n",
    "# ENGINE = ReplacingMergeTree()\n",
    "# ORDER BY (symbol, start_time);"
   ]
  },
  {
   "cell_type": "code",
   "execution_count": 17,
   "id": "62af2fee-4ddb-4fd1-82a8-5fd8b4375de7",
   "metadata": {},
   "outputs": [],
   "source": [
    "def upload_to_clickhouse(table_name, client):\n",
    "    try:\n",
    "        values = insert_data_queue.get_nowait()\n",
    "        #print(values)\n",
    "        # Неблокирующий запрос\n",
    "        client.execute(f'INSERT INTO {table_name} (*) VALUES', values)\n",
    "    except:\n",
    "        print('finished')"
   ]
  },
  {
   "cell_type": "markdown",
   "id": "9ef4f8b3-bf6f-4e89-80df-41b02d552523",
   "metadata": {},
   "source": [
    "## таблица настроена на автоматическое удаление дубликатов\n"
   ]
  },
  {
   "cell_type": "code",
   "execution_count": 11,
   "id": "77bbf7f5-a876-45ec-aa5a-a3975cffbc3a",
   "metadata": {},
   "outputs": [],
   "source": [
    "# раз в день оптимизировать таблицы\n",
    "# client.execute('OPTIMIZE TABLE five_min_klines FINAL')"
   ]
  },
  {
   "cell_type": "markdown",
   "id": "0d742562-307a-41b5-9137-5fe3bcdaa7c1",
   "metadata": {},
   "source": [
    "# FULL PIPELINE"
   ]
  },
  {
   "cell_type": "code",
   "execution_count": 47,
   "id": "63c325a8-0504-49b6-aa12-33ba7a6aea93",
   "metadata": {},
   "outputs": [],
   "source": [
    "requests_queue = Queue()\n",
    "insert_data_queue = Queue()\n",
    "\n",
    "time_str = '2025-01-23T23:00:00+00:00'\n",
    "get_kline('BTCUSDT', time_str, requests_queue)\n",
    "get_kline('ETHUSDT', time_str, requests_queue)\n",
    "get_kline('TRXUSDT', time_str, requests_queue)\n",
    "\n",
    "transform_data(requests_queue)\n"
   ]
  },
  {
   "cell_type": "code",
   "execution_count": 48,
   "id": "74482be0-a78f-4441-8f9c-8a4251667a8b",
   "metadata": {},
   "outputs": [],
   "source": [
    "transform_data(requests_queue)"
   ]
  },
  {
   "cell_type": "code",
   "execution_count": 49,
   "id": "a865b7ee-6e8f-49ad-97f6-356620d56f79",
   "metadata": {},
   "outputs": [],
   "source": [
    "client = Client(\n",
    "    host='87.236.22.62',\n",
    "    user=user,\n",
    "    password=password,\n",
    "    database='bybit_history'\n",
    ")\n",
    "\n",
    "table_name = 'five_min_klines'\n",
    "upload_to_clickhouse(table_name, client)"
   ]
  },
  {
   "cell_type": "code",
   "execution_count": 14,
   "id": "8bffe349-8c0b-477d-9ebf-0f8c58e96912",
   "metadata": {},
   "outputs": [],
   "source": [
    "#requests_queue.get_nowait()"
   ]
  },
  {
   "cell_type": "code",
   "execution_count": 16,
   "id": "fe49abb8-6147-4432-ac18-195236249f69",
   "metadata": {},
   "outputs": [],
   "source": [
    "# insert_data_queue.get_nowait()"
   ]
  },
  {
   "cell_type": "code",
   "execution_count": null,
   "id": "e91ad6c6-3fd6-4160-92a6-86eaeb3b9b82",
   "metadata": {},
   "outputs": [],
   "source": []
  }
 ],
 "metadata": {
  "kernelspec": {
   "display_name": "data_env_python",
   "language": "python",
   "name": "venv"
  },
  "language_info": {
   "codemirror_mode": {
    "name": "ipython",
    "version": 3
   },
   "file_extension": ".py",
   "mimetype": "text/x-python",
   "name": "python",
   "nbconvert_exporter": "python",
   "pygments_lexer": "ipython3",
   "version": "3.12.2"
  }
 },
 "nbformat": 4,
 "nbformat_minor": 5
}
